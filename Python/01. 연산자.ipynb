{
 "cells": [
  {
   "cell_type": "code",
   "execution_count": 4,
   "metadata": {},
   "outputs": [
    {
     "name": "stdout",
     "output_type": "stream",
     "text": [
      "5\n"
     ]
    }
   ],
   "source": [
    "a = 5\n",
    "print( a )"
   ]
  },
  {
   "cell_type": "code",
   "execution_count": 6,
   "metadata": {},
   "outputs": [
    {
     "name": "stdout",
     "output_type": "stream",
     "text": [
      "['False', 'None', 'True', 'and', 'as', 'assert', 'async', 'await', 'break', 'class', 'continue', 'def', 'del', 'elif', 'else', 'except', 'finally', 'for', 'from', 'global', 'if', 'import', 'in', 'is', 'lambda', 'nonlocal', 'not', 'or', 'pass', 'raise', 'return', 'try', 'while', 'with', 'yield']\n",
      "35\n"
     ]
    }
   ],
   "source": [
    "import keyword\n",
    "print( keyword.kwlist )\n",
    "print( len( keyword.kwlist ) )"
   ]
  },
  {
   "cell_type": "code",
   "execution_count": 15,
   "metadata": {},
   "outputs": [
    {
     "name": "stdout",
     "output_type": "stream",
     "text": [
      "<class 'int'>\n",
      "<class 'int'>\n",
      "<class 'float'>\n",
      "<class 'str'>\n",
      "<class 'str'>\n",
      "2.5\n",
      "2\n",
      "<class 'float'>\n",
      "<class 'int'>\n"
     ]
    }
   ],
   "source": [
    "# 자료형\n",
    "print( type( 10 ) )\n",
    "print( type( 123456787892123432434534546456 ) )\n",
    "print( type( 10.5 ) )\n",
    "print( type( 'ABC' ) )\n",
    "print( type( '10' ) )\n",
    "print( 5 / 2 )\n",
    "print( 5 // 2 )\n",
    "print( type( 5 / 2 ) )\n",
    "print( type( 5 // 2 ) )"
   ]
  },
  {
   "cell_type": "code",
   "execution_count": 31,
   "metadata": {
    "scrolled": true
   },
   "outputs": [
    {
     "name": "stdout",
     "output_type": "stream",
     "text": [
      "ABC CDE\n",
      "ABCCDE\n",
      "ABCCDE\n",
      "ABC CDE\n",
      "CDE ABC\n",
      "1234.567856785678\n",
      "1234.57\n",
      "ABC       \n"
     ]
    }
   ],
   "source": [
    "a = \"ABC\"\n",
    "b = \"CDE\"\n",
    "print( a, b )\n",
    "print( a + b )\n",
    "print( \"ABC\" \"CDE\" )\n",
    "print( \"{} {}\".format(a, b) )\n",
    "print( \"{1} {0}\".format(a, b) )\n",
    "print( 1234.567856785678 )\n",
    "print( \"{0:0.2f}\".format( 1234.567856785678 ) )\n",
    "print( \"{0:10s}\".format( \"ABC\" ) )"
   ]
  },
  {
   "cell_type": "code",
   "execution_count": 42,
   "metadata": {},
   "outputs": [
    {
     "name": "stdout",
     "output_type": "stream",
     "text": [
      "True\n",
      "False\n",
      "True\n",
      "False\n",
      "True\n",
      "AB\n",
      "True\n",
      "True\n",
      "True\n",
      "False\n"
     ]
    }
   ],
   "source": [
    "# in not~in is is~not\n",
    "print( 'Hello' in 'Hello World!!!' )\n",
    "print( 'Hello' not in 'Hello World!!!' )\n",
    "print( 'Hello' is 'Hello' )\n",
    "print( 'Hello' is 'Hello ' )\n",
    "print( 'Hello' == 'Hello' )\n",
    "\n",
    "print( 'A' + 'B' )\n",
    "# print( 'A' - 'B' )\n",
    "\n",
    "a = \"Hello\"\n",
    "b = \"Hello\"\n",
    "print( a == b )\n",
    "print( a is b )\n",
    "a += \" Python\"\n",
    "b += \" Python\"\n",
    "print( a == b )              # 내용\n",
    "print( a is b )              # 주소"
   ]
  },
  {
   "cell_type": "code",
   "execution_count": 55,
   "metadata": {},
   "outputs": [
    {
     "name": "stdout",
     "output_type": "stream",
     "text": [
      "name : 홍길동\n",
      "age : 20\n",
      "age : 20\n",
      "====================\n",
      "홍길동                 \n",
      "                 홍길동\n",
      "        홍길동         \n",
      "========홍길동=========\n",
      "name : 홍길동 \t age : 20\n"
     ]
    }
   ],
   "source": [
    "## 열거형 ##\n",
    "# 문자열 #\n",
    "name = \"홍길동\"\n",
    "age = 20\n",
    "print( \"name : \" + name )\n",
    "print( \"age : \" + str( age ) )\n",
    "print( \"age :\", age )\n",
    "print( \"=\" * 20 )\n",
    "\n",
    "print( \"{0:<20}\".format( name ) )\n",
    "print( \"{0:>20}\".format( name ) )\n",
    "print( \"{0:^20}\".format( name ) )\n",
    "print( \"{0:=^20}\".format( name ) )\n",
    "\n",
    "print( \"name :\", name, \"\\t\", \"age :\", age )"
   ]
  },
  {
   "cell_type": "code",
   "execution_count": 61,
   "metadata": {
    "scrolled": true
   },
   "outputs": [
    {
     "name": "stdout",
     "output_type": "stream",
     "text": [
      "Hello Python!!!\n",
      "H\n",
      "Hello\n",
      "Hello Python!\n",
      "Hello Python!!!\n"
     ]
    }
   ],
   "source": [
    "str = \"Hello Python!!!\"\n",
    "print( str )                # 0 ~ \\0 전까지 출력\n",
    "print( str[0] )\n",
    "print( str[0:5] )           # end -1\n",
    "print( str[:-2] )      \n",
    "print( str[:] )      "
   ]
  },
  {
   "cell_type": "code",
   "execution_count": 75,
   "metadata": {},
   "outputs": [
    {
     "name": "stdout",
     "output_type": "stream",
     "text": [
      "2\n",
      "15\n",
      "2\n",
      "12\n",
      "12\n",
      "-1\n",
      "H,e,l,l,o, ,P,y,t,h,o,n,!,!,!\n",
      "Hello,Python!!!\n",
      "     a   a    a       \n",
      "a   a    a       \n",
      "     a   a    a\n",
      "a   a    a\n"
     ]
    }
   ],
   "source": [
    "print( str.count( \"l\" ) )\n",
    "print( len( str ) )\n",
    "print( str.find( \"l\" ) )\n",
    "print( str.find( \"!\" ) )\n",
    "print( str.index( \"!\" ) )\n",
    "print( str.find( \"x\" ) )                  # -1\n",
    "# print( str.index( \"x\" ) )               # ValueError   \n",
    "print( \",\".join( str ) )\n",
    "print( \",\".join( str.split() ) )\n",
    "\n",
    "s = \"     a   a    a       \"\n",
    "print( s )\n",
    "print( s.lstrip() )\n",
    "print( s.rstrip() )\n",
    "print( s.strip() )\n"
   ]
  }
 ],
 "metadata": {
  "kernelspec": {
   "display_name": "Python 3",
   "language": "python",
   "name": "python3"
  },
  "language_info": {
   "codemirror_mode": {
    "name": "ipython",
    "version": 3
   },
   "file_extension": ".py",
   "mimetype": "text/x-python",
   "name": "python",
   "nbconvert_exporter": "python",
   "pygments_lexer": "ipython3",
   "version": "3.7.6"
  }
 },
 "nbformat": 4,
 "nbformat_minor": 4
}
