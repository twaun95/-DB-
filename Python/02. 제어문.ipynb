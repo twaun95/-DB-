{
 "cells": [
  {
   "cell_type": "code",
   "execution_count": 9,
   "metadata": {},
   "outputs": [
    {
     "name": "stdout",
     "output_type": "stream",
     "text": [
      "['banana', 'apple', 'melon', 'kiwi', 'pear']\n",
      "banana\n",
      "['banana', 'apple', 'melon']\n",
      "['banana', 'apple', 'melon', 'kiwi']\n",
      "['banana', 'apple', 'melon']\n",
      "k\n"
     ]
    }
   ],
   "source": [
    "## 열거형 ##\n",
    "# 리스트 #                   1차원배열 Vector(R 이름부여)\n",
    "\n",
    "# 순차적인 객체들의 집합\n",
    "# 인덱스 자동 부여\n",
    "# [] 로 표시\n",
    "# 추가 삽입 삭제 가능\n",
    "    \n",
    "# C        int m[3];                    int m[3] = {10, 20, 30}\n",
    "# Java     int m[] = new int[3]         int m[] = new int[] {10, 20, 30}\n",
    "# Python   m = []                       m = [10, 20, 30]\n",
    "\n",
    "fruits = ['banana', 'apple', 'melon', 'kiwi', 'pear']\n",
    "print( fruits )\n",
    "\n",
    "print( fruits[0] )\n",
    "print( fruits[0:3] )                    # end -1\n",
    "print( fruits[:-1] )\n",
    "print( fruits[0:3] )\n",
    "print( fruits[3][0] )                   # 2차원 배열"
   ]
  },
  {
   "cell_type": "code",
   "execution_count": 40,
   "metadata": {},
   "outputs": [
    {
     "name": "stdout",
     "output_type": "stream",
     "text": [
      "5\n",
      "1\n",
      "pear\n",
      "apple\n",
      "['apple', 'banana', 'kiwi', 'melon', 'pear', 'orange']\n",
      "0\n",
      "['apple', 'banana', 'graph', 'kiwi', 'melon', 'pear', 'orange']\n",
      "['apple', 'banana', 'kiwi', 'melon', 'pear']\n",
      "['apple', 'banana', 'kiwi', 'melon', 'pear']\n",
      "['pear', 'melon', 'kiwi', 'banana', 'apple']\n"
     ]
    }
   ],
   "source": [
    "print( len( fruits ) )\n",
    "print( fruits.count( 'banana' ) )\n",
    "print( max( fruits ) )\n",
    "print( min( fruits ) )\n",
    "fruits.append( 'orange' )\n",
    "print( fruits )\n",
    "print( fruits.index( 'apple' ) )\n",
    "# print( fruits.index( 'app' ) )                ValueError\n",
    "# print( fruits.find( 'app' ) )                 Error\n",
    "fruits.insert( 2, 'graph' )\n",
    "print( fruits )\n",
    "fruits.remove( 'orange' )                     # 1개씩 삭제\n",
    "fruits.remove( 'graph' )                      # 1개씩 삭제  없으면 ValueError \n",
    "print( fruits )\n",
    "fruits.sort()\n",
    "print( fruits )\n",
    "fruits.sort( reverse=True )\n",
    "print( fruits )"
   ]
  },
  {
   "cell_type": "code",
   "execution_count": 50,
   "metadata": {},
   "outputs": [
    {
     "name": "stdout",
     "output_type": "stream",
     "text": [
      "[['pear', 'melon', 'kiwi', 'banana', 'apple'], ['라면', '김치', '햇반', '계란']]\n",
      "['pear', 'melon', 'kiwi', 'banana', 'apple']\n",
      "['라면', '김치', '햇반', '계란']\n",
      "melon\n",
      "['melon', 'kiwi', 'banana']\n",
      "[['pear', 'melon', 'kiwi', 'banana', 'apple'], ['라면', '김치', '햇반', '계란', '도시락']]\n",
      "[['pear', 'melon', 'kiwi', 'banana', 'apple'], ['라면', '김치', '햇반', '계란', '도시락'], '배추']\n"
     ]
    }
   ],
   "source": [
    "# 하위 리스트\n",
    "shop = ['라면', '김치', '햇반', '계란']\n",
    "shoplist = [fruits, shop]\n",
    "print( shoplist )\n",
    "print( shoplist[0] )\n",
    "print( shoplist[1] )\n",
    "print( shoplist[0][1] )\n",
    "print( shoplist[0][1:4] )\n",
    "shoplist[1].append( '도시락' )\n",
    "print( shoplist )\n",
    "shoplist.append( '배추' )\n",
    "print( shoplist )"
   ]
  },
  {
   "cell_type": "code",
   "execution_count": 69,
   "metadata": {},
   "outputs": [
    {
     "name": "stdout",
     "output_type": "stream",
     "text": [
      "('dog', 'cat', 'tiger', 'sanke')\n",
      "(('dog', 'cat', 'tiger', 'sanke'), 'lion')\n",
      "('dog', 'cat', 'tiger', 'sanke')\n",
      "lion\n",
      "('cat', 'tiger')\n",
      "[('dog', 'cat', 'tiger', 'sanke'), 'lion']\n",
      "(('dog', 'cat', 'tiger', 'sanke'), 'lion', '토끼')\n",
      "('dog', 'cat', 'tiger', 'sanke')\n",
      "lion\n",
      "토끼\n"
     ]
    }
   ],
   "source": [
    "# 튜플 Tuple #\n",
    "# 여러 개의 객체를 모아 담는 데 사용 \n",
    "# 리스트와 비슷하지만 변경 불가능\n",
    "# 인덱스가 자동으로 부여\n",
    "# 생략할 수 있는 괄호로 묶인 쉼표로 구분된 항목들로 정의\n",
    "# 단순 값들의 목록을 다루는 구문이나 사용자 정의 함수에서 주로 사용\n",
    "\n",
    "# tuple()         list -> tuple\n",
    "# list()          tuple -> list\n",
    "# 서로 호환이 된다. 단 복사본이 생긴다.\n",
    "\n",
    "zoo = ( 'dog', 'cat', 'tiger', 'sanke' )\n",
    "print( zoo )\n",
    "a, b = 10, 20\n",
    "zoo = zoo, 'lion'\n",
    "print( zoo )\n",
    "print( zoo[0] )\n",
    "print( zoo[1] )\n",
    "print( zoo[0][1:3] )\n",
    "# zoo.append( '토끼' )\n",
    "\n",
    "zoolist = list( zoo )\n",
    "print( zoolist )\n",
    "zoolist.append( '토끼' )\n",
    "\n",
    "zootuple = tuple( zoolist )\n",
    "print( zootuple)\n",
    "\n",
    "a, b, c = zootuple\n",
    "print( a )\n",
    "print( b )\n",
    "print( c )"
   ]
  },
  {
   "cell_type": "code",
   "execution_count": 95,
   "metadata": {},
   "outputs": [
    {
     "name": "stdout",
     "output_type": "stream",
     "text": [
      "{'name': 'kim', 'age': 30, 'tel': '1111-2222', 'address': '서울시'}\n",
      "kim\n",
      "kim\n",
      "name kim\n",
      "age 30\n",
      "tel 1111-2222\n",
      "address 서울시\n",
      "{'name': 'kim', 'age': 30, 'tel': '1111-2222', 'address': '서울시', 'id': 'aaa'}\n",
      "{'name': 'kim', 'age': 30, 'tel': '1111-2222', 'address': '서울시'}\n"
     ]
    }
   ],
   "source": [
    "## Dictionary ##\n",
    "# 맵과 같이 키와 값을 쌍으로 {key:value, key:value}의 형태로 선언하는 구조\n",
    "# key와 value의 자료형은 상관없다.\n",
    "# 저장된 자료의 순서는 의미가 없다.\n",
    "# 키는 사전에서 유일한 값\n",
    "# 키로는 단순 객체만 사용할 수 있다.\n",
    "\n",
    "# Java              Map map = new HashMap();     map.put( key, value )\n",
    "\n",
    "kim = {'name':'kim', 'age':30, 'tel':'1111-2222', 'address':'서울시'}\n",
    "print( kim )\n",
    "print( kim['name'] )\n",
    "print( kim.get( 'name' ) )\n",
    "\n",
    "# 슬라이싱 반복문 X\n",
    "# print( kim['name':'tel'] )               # TypeError\n",
    "for key, value in kim.items() :\n",
    "    print( key, value)\n",
    "\n",
    "if 'id' not in kim.keys() :\n",
    "    kim['id'] = 'aaa'\n",
    "print( kim )    \n",
    "\n",
    "del( kim['id'] )\n",
    "print( kim )"
   ]
  },
  {
   "cell_type": "code",
   "execution_count": 113,
   "metadata": {},
   "outputs": [
    {
     "name": "stdout",
     "output_type": "stream",
     "text": [
      "{'china', 'japan', 'korea', 'USA'}\n",
      "{'china', 'japan', 'korea', 'USA'}\n",
      "{'korea', 'china', 'russia', 'USA', 'japan'}\n",
      "{'korea', 'china', 'russia', 'USA'}\n",
      "{'korea', 'china', 'USA', 'taiwan', 'japan'}\n",
      "{'korea', 'china', 'russia', 'USA', 'taiwan', 'japan'}\n",
      "{'china', 'korea', 'USA'}\n",
      "{'russia'}\n"
     ]
    }
   ],
   "source": [
    "## Set ##  집합\n",
    "# index 가 없다\n",
    "# 단순만 묶음\n",
    "# 중복이 안된다. \n",
    "# 데이터가 많으면 느리다.\n",
    "# 합집합 차집합 교집합 \n",
    "\n",
    "country = set( ['korea', 'japan', 'china', 'USA'] )\n",
    "print( country )\n",
    "country.add( 'korea' )\n",
    "print( country )\n",
    "country.add( 'russia' )\n",
    "print( country )\n",
    "country.remove( 'japan' )\n",
    "print( country )\n",
    "\n",
    "\n",
    "# | union() & intersection() - difference\n",
    "nation = country.copy()\n",
    "nation.add( 'japan' )\n",
    "nation.add( 'taiwan' )\n",
    "nation.remove( 'russia' )\n",
    "print( nation )\n",
    "\n",
    "u = country | nation\n",
    "print( u )\n",
    "\n",
    "i = country & nation\n",
    "print( i )\n",
    "\n",
    "d = country - nation\n",
    "print( d )\n"
   ]
  },
  {
   "cell_type": "code",
   "execution_count": 119,
   "metadata": {},
   "outputs": [
    {
     "name": "stdout",
     "output_type": "stream",
     "text": [
      "정수 :10\n",
      "정수 :20\n",
      "30\n"
     ]
    }
   ],
   "source": [
    "# 콘솔입출력\n",
    "# a = input( '정수 : ' )\n",
    "# print( 'a :', a )\n",
    "# print( type( a ) )\n",
    "\n",
    "# a = input( \"정수 :\" )\n",
    "# b = input( \"정수 :\" )\n",
    "# c = a + b\n",
    "# print( c )                     # 1020\n",
    "\n",
    "a = eval( input( \"정수 :\" ) )\n",
    "b = eval( input( \"정수 :\" ) )\n",
    "c = a + b\n",
    "print( c )                      # 30"
   ]
  },
  {
   "cell_type": "code",
   "execution_count": 124,
   "metadata": {},
   "outputs": [
    {
     "name": "stdout",
     "output_type": "stream",
     "text": [
      "정수 :95\n",
      "크다\n",
      "95 : 적정\n"
     ]
    }
   ],
   "source": [
    "## 제어문 ##\n",
    "# if #\n",
    "\n",
    "# if 조건 : \n",
    "#     참\n",
    "\n",
    "# if 조건 : \n",
    "#     참\n",
    "# else\n",
    "#     거짓\n",
    "a = eval( input( \"정수 :\" ) )\n",
    "if a > 5 :\n",
    "    print( '크다' )                # 참\n",
    "else :\n",
    "    print( '작다' )                # 거짓\n",
    "\n",
    "if a>=1 and a<=100 :\n",
    "    print( a, ':', '적정' )\n",
    "else :\n",
    "    print( a, ':', '오류' )"
   ]
  },
  {
   "cell_type": "code",
   "execution_count": 133,
   "metadata": {},
   "outputs": [
    {
     "name": "stdout",
     "output_type": "stream",
     "text": [
      "점수 : 1000\n"
     ]
    }
   ],
   "source": [
    "# 다중 if ~ else\n",
    "# if 조건 :\n",
    "#     참\n",
    "# elif 조건 :\n",
    "#     참\n",
    "# ...\n",
    "# else :\n",
    "#     거짓\n",
    "\n",
    "score = eval( input( '점수 : ' ) )\n",
    "if score >= 0 and score <= 100 :\n",
    "    if score >= 90 :\n",
    "        print( score, ':', 'A 학점' )\n",
    "    elif score >= 80 :\n",
    "        print( score, ':', 'B 학점' )\n",
    "    elif score >= 70 :\n",
    "        print( score, ':', 'C 학점' )\n",
    "    elif score >= 60 :\n",
    "        print( score, ':', 'D 학점' )\n",
    "    else :\n",
    "        print( score, ':', 'F 학점' )\n",
    "else :\n",
    "#     print( \"0~100 사이를 입력하세요\" )\n",
    "    pass\n",
    "\n",
    "# switch~case 없다. 분기가 있기 때문에\n"
   ]
  },
  {
   "cell_type": "code",
   "execution_count": 136,
   "metadata": {},
   "outputs": [
    {
     "name": "stdout",
     "output_type": "stream",
     "text": [
      "1 2 3 4 5 6 7 8 9 \n",
      "1 3 5 7 9 \n",
      "10 9 8 7 6 5 4 3 2 1 \n"
     ]
    }
   ],
   "source": [
    "# 반복문 #\n",
    "# for ~ else \n",
    "\n",
    "# R          req( 시작, 끝, by=증감값 )\n",
    "# Python     range( 시작, 끝, 증값 )      -1 끝\n",
    "\n",
    "for i in range( 1, 10 ) :                 # end -1\n",
    "    print( i, end= ' ' )\n",
    "print()    \n",
    "\n",
    "for i in range( 1, 10, 2 ) :\n",
    "    print( i, end=' ' )\n",
    "print()    \n",
    "for i in range( 10, 0, -1 ) :\n",
    "    print( i, end=' ' )\n",
    "print()    \n"
   ]
  },
  {
   "cell_type": "code",
   "execution_count": 152,
   "metadata": {},
   "outputs": [
    {
     "name": "stdout",
     "output_type": "stream",
     "text": [
      "10 40 59 28 37 49 \n",
      "A C F D G B \n",
      "A B C D E F G H \n",
      "35 37 10 49 28 93 \n",
      "A B C H E \n",
      "10 20 50 20 30 \n",
      "A B C H E \n",
      "A : 10\n",
      "B : 20\n",
      "C : 50\n",
      "H : 20\n",
      "E : 30\n",
      "\n",
      "1 : 10\n",
      "2 : 20\n",
      "4 : 40\n",
      "8 : 50\n",
      "3 : 70\n",
      "\n",
      "2 4 6 8 10 \n"
     ]
    }
   ],
   "source": [
    "# 나열형\n",
    "a = [ 10, 40, 59, 28, 37, 49 ]            # list\n",
    "for i in a :\n",
    "    print( i, end= ' ')\n",
    "print()    \n",
    "b = ( 'A', 'C', 'F', 'D', 'G', 'B' )      # tuple\n",
    "for i in b :\n",
    "    print( i, end=' ' )\n",
    "print()    \n",
    "\n",
    "for i in 'ABCDEFGH' :                     # strings\n",
    "    print( i, end=' ' )\n",
    "print()\n",
    "\n",
    "c = set( [10, 49, 35, 37, 28, 93] )\n",
    "for i in c :\n",
    "    print( i, end=' ' )\n",
    "print()\n",
    "\n",
    "d = {'A':10, 'B':20, 'C':50, 'H':20, 'E':30 }\n",
    "for i in d :\n",
    "    print( i, end=' ' )\n",
    "print()\n",
    "\n",
    "for i in d.values() :\n",
    "    print( i, end=' ' )\n",
    "print()\n",
    "for i in d.keys() :\n",
    "    print( i, end=' ' )\n",
    "print()\n",
    "for key, value in d.items() :\n",
    "    print( key, ':', value )\n",
    "print()\n",
    "\n",
    "e =[(1,10), (2,20), (4,40), (8,50), (3,70)]                      # 리스트( 튜플 )\n",
    "for x, y in e :\n",
    "    print( x, ':', y )\n",
    "print()    \n",
    "\n",
    "# 리스트 축약\n",
    "f = [2, 3, 4, 8, 10]\n",
    "# g = [ i for i in range(2, 11, 2)]\n",
    "g = [ i*2 for i in range(1,6)  ]\n",
    "for i in g :\n",
    "    print( i, end=' ' )\n",
    "print()    \n",
    "\n"
   ]
  },
  {
   "cell_type": "code",
   "execution_count": 160,
   "metadata": {},
   "outputs": [
    {
     "name": "stdout",
     "output_type": "stream",
     "text": [
      "1 2 3 4 5 6 7 8 9 10 10\n",
      "\n",
      "1 2 3 4 5 6 7 8 9 10 10\n",
      "1 2 3 4 5 6 7 8 9 10 \n",
      "2 4 6 8 10 \n"
     ]
    }
   ],
   "source": [
    "# while ~ else \n",
    "\n",
    "for i in range( 1,11 ) :\n",
    "    print( i, end=' ' )\n",
    "else :\n",
    "    print( i )                         # C for( int i=1; i<11; i++ ){}          11\n",
    "                                       # Java  for( int i=1; i<11; i++ ){}      error 발생. 지역변수 O \n",
    "print()                                # Python 10 지역변수 X\n",
    "\n",
    "\n",
    "for i in range( 1,11 ) :              \n",
    "    print( i, end=' ' )                \n",
    "print( i )                             # 10\n",
    "\n",
    "i = 0                   # 초기값\n",
    "while( i < 10 ) :       # 조건            반복하는 범위   \n",
    "    i += 1              # 증감값\n",
    "    print( i, end=' ' )\n",
    "print()    \n",
    "\n",
    "i = 0\n",
    "while True :\n",
    "    i += 1 \n",
    "    if i > 10 : break\n",
    "    if i%2 == 1 : continue;         # 반복문의 처음으로 돌아가라\n",
    "    print( i, end=' ' )    \n",
    "print()    \n",
    "\n",
    "# do ~ while 없다."
   ]
  },
  {
   "cell_type": "code",
   "execution_count": 164,
   "metadata": {},
   "outputs": [
    {
     "name": "stdout",
     "output_type": "stream",
     "text": [
      "korea china taiwan russia japan \n",
      "0 : korea\n",
      "1 : china\n",
      "2 : taiwan\n",
      "3 : russia\n",
      "4 : japan\n",
      "\n",
      "100 : korea\n",
      "101 : china\n",
      "102 : taiwan\n",
      "103 : russia\n",
      "104 : japan\n",
      "\n"
     ]
    }
   ],
   "source": [
    "## enumerate() ##\n",
    "# index 없어서 반복문을 돌릴 수 없는 경우 \n",
    "\n",
    "nations = set( ['korea', 'japan', 'china', 'taiwan', 'russia'] )\n",
    "for i in nations :\n",
    "    print( i, end=' ' )\n",
    "print()    \n",
    "\n",
    "for i, nation in enumerate( nations ) :\n",
    "    print( i, ':', nation )\n",
    "print()    \n",
    "\n",
    "for i, nation in enumerate( nations, 100 ) :\n",
    "    print( i, ':', nation )\n",
    "print()    "
   ]
  },
  {
   "cell_type": "code",
   "execution_count": 1,
   "metadata": {},
   "outputs": [
    {
     "name": "stdout",
     "output_type": "stream",
     "text": [
      "*\n",
      "**\n",
      "***\n",
      "****\n",
      "*****\n",
      "\n"
     ]
    }
   ],
   "source": [
    "# 다중반복문 #\n",
    "# *\n",
    "# **\n",
    "# ***\n",
    "# ****\n",
    "# *****\n",
    "\n",
    "for i in range(5):\n",
    "    for j in range(i+1):\n",
    "        print('*', end='')\n",
    "    print()\n",
    "print()\n"
   ]
  },
  {
   "cell_type": "code",
   "execution_count": 2,
   "metadata": {},
   "outputs": [
    {
     "name": "stdout",
     "output_type": "stream",
     "text": [
      "*****\n",
      "****\n",
      "***\n",
      "**\n",
      "*\n",
      "\n"
     ]
    }
   ],
   "source": [
    "# *****\n",
    "# ****\n",
    "# ***\n",
    "# **\n",
    "# *\n",
    "\n",
    "for i in range(5):\n",
    "    for j in range(5-i):\n",
    "        print('*', end='')\n",
    "    print()\n",
    "print()\n"
   ]
  },
  {
   "cell_type": "code",
   "execution_count": 3,
   "metadata": {},
   "outputs": [
    {
     "name": "stdout",
     "output_type": "stream",
     "text": [
      "    *\n",
      "   **\n",
      "  ***\n",
      " ****\n",
      "*****\n",
      "\n"
     ]
    }
   ],
   "source": [
    "#     *\n",
    "#    **\n",
    "#   ***\n",
    "#  ****\n",
    "# *****\n",
    "\n",
    "for i in range(5):\n",
    "    for j in range(1,5-i):\n",
    "        print(' ', end ='')\n",
    "    for k in range(i+1):\n",
    "        print('*', end = '')\n",
    "    print()\n",
    "print()\n"
   ]
  },
  {
   "cell_type": "code",
   "execution_count": 4,
   "metadata": {},
   "outputs": [
    {
     "name": "stdout",
     "output_type": "stream",
     "text": [
      "*****\n",
      " ****\n",
      "  ***\n",
      "   **\n",
      "    *\n",
      "\n"
     ]
    }
   ],
   "source": [
    "# *****\n",
    "#  ****\n",
    "#   ***\n",
    "#    **\n",
    "#     *\n",
    "\n",
    "for i in range(5):\n",
    "    for j in range(i):\n",
    "        print(' ', end ='')\n",
    "    for k in range(i,5):\n",
    "        print('*', end = '')\n",
    "    print()\n",
    "print()\n"
   ]
  },
  {
   "cell_type": "code",
   "execution_count": 5,
   "metadata": {},
   "outputs": [
    {
     "name": "stdout",
     "output_type": "stream",
     "text": [
      "    **\n",
      "   ****\n",
      "  ******\n",
      " ********\n",
      "**********\n",
      "**********\n",
      " ********\n",
      "  ******\n",
      "   ****\n",
      "    **\n",
      "\n"
     ]
    }
   ],
   "source": [
    "#     **\n",
    "#    ****\n",
    "#   ******\n",
    "#  ********\n",
    "# **********\n",
    "# **********\n",
    "#  ********\n",
    "#   ******\n",
    "#    ****\n",
    "#     **\n",
    "\n",
    "for i in range(5):\n",
    "    for j in range(1,5-i):\n",
    "        print(' ', end ='')\n",
    "    for j in range(i+1):\n",
    "        print('*', end = '')\n",
    "    for j in range(i+1):\n",
    "        print('*', end = '')\n",
    "    print()\n",
    "for i in range(5):\n",
    "    for j in range(i):\n",
    "        print(' ', end ='')\n",
    "    for k in range(i,5):\n",
    "        print('*', end = '')\n",
    "    for j in range(5-i):\n",
    "        print('*', end='')\n",
    "    print()\n",
    "print()\n"
   ]
  }
 ],
 "metadata": {
  "kernelspec": {
   "display_name": "Python 3",
   "language": "python",
   "name": "python3"
  },
  "language_info": {
   "codemirror_mode": {
    "name": "ipython",
    "version": 3
   },
   "file_extension": ".py",
   "mimetype": "text/x-python",
   "name": "python",
   "nbconvert_exporter": "python",
   "pygments_lexer": "ipython3",
   "version": "3.7.6"
  }
 },
 "nbformat": 4,
 "nbformat_minor": 4
}
