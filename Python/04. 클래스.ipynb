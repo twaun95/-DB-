{
 "cells": [
  {
   "cell_type": "code",
   "execution_count": 11,
   "metadata": {},
   "outputs": [
    {
     "name": "stdout",
     "output_type": "stream",
     "text": [
      "300\n",
      "300\n",
      "100\n",
      "100\n",
      "200\n"
     ]
    }
   ],
   "source": [
    "# 모듈                   확장자가 py로 끝나는 파일. 클래스 함수 등이 다수 포함.\n",
    "# 클래스                 새로운 자료형을 생성하는 방법\n",
    "# 인스턴스               클래스를 이용해서 만든 객체\n",
    "\n",
    "# 캡슐화                 데이터의 안전성\n",
    "# 상속                   부모 멤버는 내 멤버   \n",
    "# 다형성                 부모를 호출해서 자식 중 골라서 실행가능\n",
    "\n",
    "# C++                    클래스는 캡슐화 때문에. \n",
    "#                        상속, 다형성 활용할 때 의미. C++ 만들어진 모듈이 없다.\n",
    "\n",
    "# Java                   OOP Object Oriented Programming 객체 지향 프로그래밍\n",
    "#                        객체 - 클래스를 가지고 메모리 할당\n",
    "#                        캡슐화를 무시하기도 한다. 상속, 다형성이 중요. \n",
    "\n",
    "# Python                 모듈 지향 프로그래밍\n",
    "#                        모듈 - 파일 하나. 일반변수 일반함수 클래스 등을 포함\n",
    "#                        캡슐화 무시한다. 상속 활용도가 적다. 다형성은 구현이 안된다.\n",
    "\n",
    "# class 클래스이름 [(상속 클래스명)] :\n",
    "#     <클래스 변수 선언 >\n",
    "#     def 클래스함수 (self [, 인수1, 인수2, ...]) :\n",
    "#         <수행할 문장 >\n",
    "\n",
    "\n",
    "# Private                 외부에서는 접근 불가능. 멤버간에만 접근 가능\n",
    "\n",
    "c = 300                   # 일반변수\n",
    "def getC() :              # 일반함수\n",
    "    return c\n",
    "\n",
    "class ClassTest :         # 클래스 - 설계도. 새로운 자료형을 설계. 메모리할당 받아야 한다.\n",
    "    a = 100;              # 멤버변수\n",
    "    __b = 200;            # private 멤버변수\n",
    "    def getA( self ) :    # 멤버함수 \n",
    "        return self.a\n",
    "    def getB( self ) :    # 멤버함수 \n",
    "        return self.__b\n",
    "\n",
    "print( c )                # 일반변수 접근\n",
    "print( getC() )           # 일반함수 호출\n",
    "\n",
    "\n",
    "ct = ClassTest()          # 클래스 메모리할당. 인스턴스. 객체 \n",
    "print( ct.a )             # 객체.멤버\n",
    "# print( ct.__b )         # private\n",
    "print( ct.getA() )\n",
    "print( ct.getB() )        # 캡슐화. 직접접근이 안된다. 함수를 통해서 접근"
   ]
  },
  {
   "cell_type": "code",
   "execution_count": 16,
   "metadata": {},
   "outputs": [
    {
     "name": "stdout",
     "output_type": "stream",
     "text": [
      "김유신\n",
      "30\n",
      "형식에 맞지 않는 이름입니다.\n",
      "0~150 사이로 입력하세요\n",
      "\n",
      "0\n"
     ]
    }
   ],
   "source": [
    "# 캡슐화\n",
    "class Person :\n",
    "    __name = ''\n",
    "    __age = 0\n",
    "    def setName( self, name ) :\n",
    "        if len( name ) >= 5 :\n",
    "            print( \"형식에 맞지 않는 이름입니다.\" )\n",
    "        else :\n",
    "            self.__name = name\n",
    "    def setAge( self, age ) :\n",
    "        if age < 0 or age > 150 :\n",
    "            print( \"0~150 사이로 입력하세요\" )\n",
    "        else :\n",
    "            self.__age = age\n",
    "    def getName( self ) :\n",
    "        return self.__name\n",
    "    def getAge( self ) :\n",
    "        return self.__age\n",
    "    \n",
    "kim = Person()\n",
    "kim.setName( '김유신' )\n",
    "kim.setAge( 30 )\n",
    "print( kim.getName() )\n",
    "print( kim.getAge() )\n",
    "\n",
    "lee = Person()\n",
    "lee.setName( \"ㄱㄴㄷㄹㅁㅂㅅㅇㅈㅊ\" )\n",
    "lee.setAge( 200 )\n",
    "print( lee.getName() )\n",
    "print( lee.getAge() )"
   ]
  },
  {
   "cell_type": "code",
   "execution_count": null,
   "metadata": {},
   "outputs": [],
   "source": []
  },
  {
   "cell_type": "code",
   "execution_count": null,
   "metadata": {},
   "outputs": [],
   "source": []
  },
  {
   "cell_type": "code",
   "execution_count": null,
   "metadata": {},
   "outputs": [],
   "source": []
  },
  {
   "cell_type": "code",
   "execution_count": null,
   "metadata": {},
   "outputs": [],
   "source": []
  },
  {
   "cell_type": "code",
   "execution_count": null,
   "metadata": {},
   "outputs": [],
   "source": []
  },
  {
   "cell_type": "code",
   "execution_count": null,
   "metadata": {},
   "outputs": [],
   "source": []
  }
 ],
 "metadata": {
  "kernelspec": {
   "display_name": "Python 3",
   "language": "python",
   "name": "python3"
  },
  "language_info": {
   "codemirror_mode": {
    "name": "ipython",
    "version": 3
   },
   "file_extension": ".py",
   "mimetype": "text/x-python",
   "name": "python",
   "nbconvert_exporter": "python",
   "pygments_lexer": "ipython3",
   "version": "3.7.6"
  }
 },
 "nbformat": 4,
 "nbformat_minor": 4
}
