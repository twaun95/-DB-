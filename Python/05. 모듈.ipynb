{
 "cells": [
  {
   "cell_type": "code",
   "execution_count": 24,
   "metadata": {},
   "outputs": [
    {
     "name": "stdout",
     "output_type": "stream",
     "text": [
      "반갑습니다\n",
      "안녕하세요\n",
      "권태완\n",
      "27\n",
      "\n",
      "반갑습니다\n",
      "\n",
      "반갑습니다\n",
      "안녕하세요\n",
      "안녕히가세요\n",
      "\n",
      "가나다\n",
      "10\n"
     ]
    }
   ],
   "source": [
    "# 모듈\n",
    "# .py 확장자인 파일 하나\n",
    "# 일반변수 일반함수 클래스\n",
    "\n",
    "#######################같은 폴더\n",
    "import mymodule\n",
    "print(mymodule.msg)\n",
    "mymodule.hello()\n",
    "\n",
    "user = mymodule.User('권태완','27')\n",
    "print(user.getName())\n",
    "print(user.getAge())\n",
    "\n",
    "# import 모듈명 as 모듈별칭\n",
    "print()\n",
    "import mymodule as mm\n",
    "print(mm.msg)\n",
    "\n",
    "# from 모듈명 imort 변수 or 함수\n",
    "print()\n",
    "from mymodule import msg, hello, bye\n",
    "print(msg)\n",
    "hello()\n",
    "bye()\n",
    "\n",
    "# from 모듈명 import 이름 as 별칭\n",
    "print()\n",
    "from mymodule import User as us\n",
    "user = us('가나다', 10)\n",
    "print(user.getName())\n",
    "print(user.getAge())"
   ]
  },
  {
   "cell_type": "code",
   "execution_count": 21,
   "metadata": {},
   "outputs": [
    {
     "name": "stdout",
     "output_type": "stream",
     "text": [
      "반갑습니다\n",
      "홍길동\n",
      "\n",
      "반갑습니다\n",
      "안녕히가세요\n",
      "이순신\n",
      "\n",
      "안녕하세요\n",
      "안녕히가세요\n",
      "\n",
      "권태완\n",
      "27\n"
     ]
    }
   ],
   "source": [
    "#모듈이 다른 폴더 있는 경우\n",
    "# 모듈    -py 파일하나\n",
    "# 패키지 -폴더 .innit.py가 같이 있어야 인식(파이썬3.3부터 없어도 되지만 주피터노트북은 필요)\n",
    "\n",
    "# import 패키지명.모듈명\n",
    "import module.mymodule\n",
    "print(module.mymodule.msg)\n",
    "user = module.mymodule.User('홍길동', 30)\n",
    "print(user.getName())\n",
    "\n",
    "# import 패키지명.모듈명 as 모듈별칭\n",
    "print()\n",
    "import module.mymodule as mm\n",
    "print(mm.msg)\n",
    "mm.bye()\n",
    "user = mm.User('이순신', 40)\n",
    "print(user.getName())\n",
    "\n",
    "#from 패키지명.모듈명 import 변수 or 함수\n",
    "print()\n",
    "from module.mymodule import msg, hello, bye\n",
    "hello()\n",
    "bye()\n",
    "\n",
    "# from 패키지명.모듈명 import 이름 as 별칭\n",
    "print()\n",
    "from module.mymodule import User as us\n",
    "user = us('권태완', 27)\n",
    "print(user.getName())\n",
    "print(user.getAge())"
   ]
  },
  {
   "cell_type": "code",
   "execution_count": 27,
   "metadata": {},
   "outputs": [
    {
     "name": "stdout",
     "output_type": "stream",
     "text": [
      "C:\\Users\\User\\Python\n",
      "\n",
      "['.ipynb_checkpoints', '01. 연산자.ipynb', '02. 제어문.ipynb', '03. 함수.ipynb', '03. 함수_2.ipynb', '04. 클래스.ipynb', '05. 모듈.ipynb', 'module', 'mymodule.py', '__pycache__']\n",
      "\n",
      "['.android', '.atom', '.bash_history', '.gitconfig', '.gradle', '.ipython', '.jdks', '.jupyter', '.m2', '3D Objects', 'AppData', 'Application Data', 'Contacts', 'Cookies', 'Documents', 'Downloads', 'Favorites', 'IdeaProjects', 'IntelGraphicsProfiles', 'Links', 'Local Settings', 'MicrosoftEdgeBackups', 'Music', 'My Documents', 'NetHood', 'NTUSER.DAT', 'ntuser.dat.LOG1', 'ntuser.dat.LOG2', 'NTUSER.DAT{fd9a35db-49fe-11e9-aa2c-248a07783950}.TM.blf', 'NTUSER.DAT{fd9a35db-49fe-11e9-aa2c-248a07783950}.TMContainer00000000000000000001.regtrans-ms', 'NTUSER.DAT{fd9a35db-49fe-11e9-aa2c-248a07783950}.TMContainer00000000000000000002.regtrans-ms', 'ntuser.ini', 'OneDrive', 'Oracle', 'PrintHood', 'Python', 'R', 'Recent', 'Saved Games', 'Searches', 'SendTo', 'Templates', 'Videos', '시작 메뉴']\n",
      "sys.version_info(major=3, minor=7, micro=6, releaselevel='final', serial=0)\n",
      "3\n"
     ]
    }
   ],
   "source": [
    "# OS SYS 모듈\n",
    "import os\n",
    "import sys\n",
    "print(os.getcwd())     #현재 위치\n",
    "print()\n",
    "print(os.listdir('.'))   #현재폴더 목록\n",
    "print()\n",
    "print(os.listdir('..')) #이전폴더 목록\n",
    "print(sys.version_info)\n",
    "print(sys.version_info.major)"
   ]
  }
 ],
 "metadata": {
  "kernelspec": {
   "display_name": "Python 3",
   "language": "python",
   "name": "python3"
  },
  "language_info": {
   "codemirror_mode": {
    "name": "ipython",
    "version": 3
   },
   "file_extension": ".py",
   "mimetype": "text/x-python",
   "name": "python",
   "nbconvert_exporter": "python",
   "pygments_lexer": "ipython3",
   "version": "3.7.6"
  }
 },
 "nbformat": 4,
 "nbformat_minor": 4
}
